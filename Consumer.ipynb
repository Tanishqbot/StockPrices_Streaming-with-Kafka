{
 "cells": [
  {
   "cell_type": "markdown",
   "metadata": {},
   "source": [
    "### Libraries"
   ]
  },
  {
   "cell_type": "code",
   "execution_count": 18,
   "metadata": {},
   "outputs": [],
   "source": [
    "import pandas as pd\n",
    "from kafka import KafkaProducer, KafkaConsumer\n",
    "from time import sleep\n",
    "import time\n",
    "from json import dumps, loads\n",
    "import json\n",
    "import matplotlib.pyplot as plt\n",
    "import s3fs\n",
    "from s3fs import S3FileSystem\n",
    "from datetime import datetime"
   ]
  },
  {
   "cell_type": "markdown",
   "metadata": {},
   "source": [
    "### Initialising the consumer and receiving the data to store into S3 bucket"
   ]
  },
  {
   "cell_type": "code",
   "execution_count": null,
   "metadata": {},
   "outputs": [],
   "source": [
    "\n",
    "consumer = KafkaConsumer(\n",
    "    'demo_test1',\n",
    "    bootstrap_servers=[':9092'], # add your public ip which is there in the instance\n",
    "    value_deserializer=lambda x: loads(x.decode('utf-8'))\n",
    ")\n",
    "data_list = []\n",
    "fs = s3fs.S3FileSystem()\n",
    "bucket_name = 'stock-kafka-tanishq' # name of your s3 bucket\n",
    "\n",
    "def get_s3_filename():\n",
    "    return f\"s3://{bucket_name}/stock_data_{datetime.now().strftime('%Y-%m-%d_%H-%M-%S')}.csv\"\n",
    "\n",
    "print(\"Listening to Kafka topic: demo_test1\")\n",
    "for message in consumer:\n",
    "    stock_data = message.value\n",
    "    print(f\"Received data: {stock_data}\")\n",
    "    \n",
    "    data_list.append(stock_data)\n",
    "    \n",
    "    data = pd.DataFrame(data_list)\n",
    "\n",
    "    plt.figure(figsize=(10, 6))  # visulaization with graph \n",
    "    plt.plot(data['Time'], data['Price'], marker='o', linestyle='-', color='blue')\n",
    "    plt.title('Real-Time Stock Price Trend (Consumer Side)')\n",
    "    plt.xlabel('Time')\n",
    "    plt.ylabel('Price')\n",
    "    plt.xticks(rotation=45)\n",
    "    plt.grid()\n",
    "    plt.pause(1) \n",
    "    \n",
    "    s3_filename = get_s3_filename()  \n",
    "    with fs.open(s3_filename, 'w') as f:\n",
    "        data.to_csv(f, index=False)  \n",
    "    print(f\"Data saved to S3 bucket {bucket_name} with filename {s3_filename}\")\n",
    "\n",
    "    time.sleep(2)  \n"
   ]
  },
  {
   "cell_type": "code",
   "execution_count": null,
   "metadata": {},
   "outputs": [],
   "source": []
  }
 ],
 "metadata": {
  "kernelspec": {
   "display_name": ".venv",
   "language": "python",
   "name": "python3"
  },
  "language_info": {
   "codemirror_mode": {
    "name": "ipython",
    "version": 3
   },
   "file_extension": ".py",
   "mimetype": "text/x-python",
   "name": "python",
   "nbconvert_exporter": "python",
   "pygments_lexer": "ipython3",
   "version": "3.11.1"
  }
 },
 "nbformat": 4,
 "nbformat_minor": 2
}
