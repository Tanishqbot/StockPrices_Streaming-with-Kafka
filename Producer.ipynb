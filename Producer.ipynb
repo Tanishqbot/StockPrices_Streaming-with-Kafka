{
 "cells": [
  {
   "cell_type": "markdown",
   "metadata": {},
   "source": [
    "### Libraries"
   ]
  },
  {
   "cell_type": "code",
   "execution_count": 1,
   "metadata": {},
   "outputs": [],
   "source": [
    "import pandas as pd\n",
    "from kafka import KafkaProducer, KafkaConsumer\n",
    "from time import sleep\n",
    "import time\n",
    "from json import dumps\n",
    "import json\n",
    "import requests\n",
    "from bs4 import BeautifulSoup\n",
    "from datetime import datetime\n",
    "import matplotlib.pyplot as plt\n"
   ]
  },
  {
   "cell_type": "markdown",
   "metadata": {},
   "source": [
    "### Web Scraping and initialising the producer"
   ]
  },
  {
   "cell_type": "code",
   "execution_count": 15,
   "metadata": {},
   "outputs": [
    {
     "name": "stdout",
     "output_type": "stream",
     "text": [
      "Sent data to Kafka: {'Time': '18:40:07', 'Price': 1221.5}\n",
      "Sent data to Kafka: {'Time': '18:40:13', 'Price': 1221.5}\n",
      "Sent data to Kafka: {'Time': '18:40:19', 'Price': 1221.5}\n",
      "Sent data to Kafka: {'Time': '18:40:25', 'Price': 1221.5}\n",
      "Sent data to Kafka: {'Time': '18:40:31', 'Price': 1221.5}\n"
     ]
    }
   ],
   "source": [
    "producer = KafkaProducer(\n",
    "    bootstrap_servers=[':9092'], # add your public ip which is there in the instance\n",
    "    value_serializer=lambda x: dumps(x).encode('utf-8')\n",
    ")\n",
    "\n",
    "\n",
    "ticker = 'RELIANCE'\n",
    "url = f'https://www.google.com/finance/quote/{ticker}:NSE?hl=en'\n",
    "\n",
    "for i in range(5):  \n",
    "    response = requests.get(url)\n",
    "    soup = BeautifulSoup(response.text, 'html.parser')\n",
    "    price_element = soup.find('div', class_='YMlKec fxKbKc')\n",
    "    \n",
    "    if price_element:\n",
    "        stock_price = float(price_element.text.strip()[1:].replace(',', ''))\n",
    "        current_time = datetime.now().strftime('%H:%M:%S')\n",
    "        stock_data = {'Time': current_time, 'Price': stock_price}\n",
    "\n",
    "        # Sending stock data to Kafka\n",
    "        producer.send('demo_test1', value=stock_data)\n",
    "        print(f\"Sent data to Kafka: {stock_data}\")\n",
    "\n",
    "    else:\n",
    "        print(\"Unable to fetch stock price. Check the HTML structure.\")\n",
    "    \n",
    "    time.sleep(2)  "
   ]
  },
  {
   "cell_type": "code",
   "execution_count": 14,
   "metadata": {},
   "outputs": [],
   "source": [
    "producer.flush()"
   ]
  },
  {
   "cell_type": "code",
   "execution_count": null,
   "metadata": {},
   "outputs": [],
   "source": []
  }
 ],
 "metadata": {
  "kernelspec": {
   "display_name": ".venv",
   "language": "python",
   "name": "python3"
  },
  "language_info": {
   "codemirror_mode": {
    "name": "ipython",
    "version": 3
   },
   "file_extension": ".py",
   "mimetype": "text/x-python",
   "name": "python",
   "nbconvert_exporter": "python",
   "pygments_lexer": "ipython3",
   "version": "3.11.1"
  }
 },
 "nbformat": 4,
 "nbformat_minor": 2
}
